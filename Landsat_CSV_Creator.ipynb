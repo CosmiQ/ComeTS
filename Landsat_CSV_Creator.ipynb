{
 "cells": [
  {
   "cell_type": "code",
   "execution_count": 1,
   "metadata": {},
   "outputs": [],
   "source": [
    "#!/usr/bin/env python3\n",
    "# -*- coding: utf-8 -*-\n",
    "\"\"\"\n",
    "Created on Mon Nov 27 2017\n",
    "\n",
    "@author: jshermeyer\n",
    "\"\"\"\n",
    "\n",
    "import os\n",
    "from CometTS import LS_CSV_It\n",
    "\n",
    "# The input directory for the data\n",
    "input_dir = '/Landsat/'\n",
    "# The naming pattern for your time-series data, if not necessary, just set at \"*\"\n",
    "TSdata = \"L*.tif\"\n",
    "# The naming pattern for your masked data\n",
    "Mask = \"L*cMask.tif\"\n",
    "# The location of the date within your file.  This will be extracted using regex techniques.\n",
    "DateLoc = \"17:25\"\n",
    "# The Landsat band you are interested in processing, set this to \"\" if using an index or non-traditional band\n",
    "# Options are: \"COASTAL\", \"BLUE\", \"GREEN\", \"RED\", \"NIR\", \"SWIR1\", \"SWIR2\"\n",
    "Band = \"SWIR1\"\n",
    "\n",
    "gdf_out = LS_CSV_It(input_dir, TSdata, Mask, DateLoc, Band)\n",
    "output = os.path.join(input_dir, Band, '_Raster_List.csv')\n",
    "gdf_out.to_csv(output)\n"
   ]
  },
  {
   "cell_type": "code",
   "execution_count": null,
   "metadata": {},
   "outputs": [],
   "source": []
  }
 ],
 "metadata": {
  "kernelspec": {
   "display_name": "Python 3",
   "language": "python",
   "name": "python3"
  },
  "language_info": {
   "codemirror_mode": {
    "name": "ipython",
    "version": 3
   },
   "file_extension": ".py",
   "mimetype": "text/x-python",
   "name": "python",
   "nbconvert_exporter": "python",
   "pygments_lexer": "ipython3",
   "version": "3.6.8"
  }
 },
 "nbformat": 4,
 "nbformat_minor": 2
}
