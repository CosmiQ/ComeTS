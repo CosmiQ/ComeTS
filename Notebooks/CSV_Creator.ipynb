{
 "cells": [
  {
   "cell_type": "markdown",
   "metadata": {},
   "source": [
    "## CSV_Creator\n",
    "Used to document and index your time series of raster imagery, masks, and potentially observation data."
   ]
  },
  {
   "cell_type": "code",
   "execution_count": 4,
   "metadata": {},
   "outputs": [
    {
     "ename": "ImportError",
     "evalue": "cannot import name 'csv_it'",
     "output_type": "error",
     "traceback": [
      "\u001b[0;31m---------------------------------------------------------------------------\u001b[0m",
      "\u001b[0;31mImportError\u001b[0m                               Traceback (most recent call last)",
      "\u001b[0;32m<ipython-input-4-4ae26ce684fc>\u001b[0m in \u001b[0;36m<module>\u001b[0;34m\u001b[0m\n\u001b[1;32m      2\u001b[0m \u001b[0;32mimport\u001b[0m \u001b[0mos\u001b[0m\u001b[0;34m\u001b[0m\u001b[0;34m\u001b[0m\u001b[0m\n\u001b[1;32m      3\u001b[0m \u001b[0;32mimport\u001b[0m \u001b[0mCometTS\u001b[0m\u001b[0;34m\u001b[0m\u001b[0;34m\u001b[0m\u001b[0m\n\u001b[0;32m----> 4\u001b[0;31m \u001b[0;32mfrom\u001b[0m \u001b[0mCometTS\u001b[0m\u001b[0;34m.\u001b[0m\u001b[0mCSV_It\u001b[0m \u001b[0;32mimport\u001b[0m \u001b[0mcsv_it\u001b[0m\u001b[0;34m\u001b[0m\u001b[0;34m\u001b[0m\u001b[0m\n\u001b[0m",
      "\u001b[0;31mImportError\u001b[0m: cannot import name 'csv_it'"
     ]
    }
   ],
   "source": [
    "## Import your packages, assumes you have already installed CometTS\n",
    "import os\n",
    "import CometTS\n",
    "from CometTS.CSV_It import csv_it"
   ]
  },
  {
   "cell_type": "code",
   "execution_count": null,
   "metadata": {},
   "outputs": [],
   "source": [
    "# The input directory for the data. Specify directory directly for another directory.\n",
    "input_dir = os.path.join(os.getcwd(), \"CometTS/VIIRS_Sample\")\n",
    "# The naming pattern for your time-series data, if not necessary, just set at \"*\"\n",
    "TSdata = \"S*rade9*.tif\"\n",
    "# The number of observations that were aggregated per date-somewhat useful is working with monthly composite data\n",
    "Observations = \"S*cvg*.tif\"\n",
    "# The naming pattern for your masked data\n",
    "Mask = \"S*cvg*.tif\"\n",
    "# The location of the date within your filename.  This will be extracted using regex techniques.\n",
    "DateLoc = \"10:18\"\n",
    "# The location of the band number or name in your file.  This will be extracted using regex techniques.\n",
    "BandNum = \"\""
   ]
  },
  {
   "cell_type": "code",
   "execution_count": null,
   "metadata": {},
   "outputs": [],
   "source": [
    "gdf_out = csv_it(input_dir, TSdata, Observations, Mask, DateLoc, BandNum)\n",
    "output = os.path.join(input_dir, 'Raster_List.csv')\n",
    "gdf_out.to_csv(output)"
   ]
  }
 ],
 "metadata": {
  "kernelspec": {
   "display_name": "Python 3",
   "language": "python",
   "name": "python3"
  },
  "language_info": {
   "codemirror_mode": {
    "name": "ipython",
    "version": 3
   },
   "file_extension": ".py",
   "mimetype": "text/x-python",
   "name": "python",
   "nbconvert_exporter": "python",
   "pygments_lexer": "ipython3",
   "version": "3.6.8"
  }
 },
 "nbformat": 4,
 "nbformat_minor": 2
}
