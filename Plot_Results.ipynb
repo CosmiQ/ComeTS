{
 "cells": [
  {
   "cell_type": "code",
   "execution_count": null,
   "metadata": {},
   "outputs": [],
   "source": [
    "# Module for plotting results only!\n",
    "\n",
    "import pandas as pd\n",
    "import geopandas as gpd\n",
    "import shapely.wkt\n",
    "import seaborn as sns\n",
    "from CometTS import run_plot\n",
    "sns.set(color_codes=True)\n",
    "%matplotlib inline\n",
    "\n",
    "\n",
    "# Run plotting from CSV output ONLY\n",
    "\n",
    "input_CSV = \".../Multi_studyAreas_FullStats.csv\"\n",
    "\n",
    "\n",
    "def gen_plots(input_csv):\n",
    "    df = pd.read_csv(input_csv)\n",
    "    df = df.sort_values(['date'])\n",
    "    geometry = df['geometry'].map(shapely.wkt.loads)\n",
    "    crs = {'init': 'epsg:2263'}\n",
    "    gdf = gpd.GeoDataFrame(df, crs=crs, geometry=geometry)\n",
    "    gdf['date'] = pd.to_datetime(gdf['date'], infer_datetime_format=True)\n",
    "    # run_plot(gdf, y_label=\"NDVI\", title_label= \"NDVI over time - ID: \")\n",
    "    run_plot(gdf)\n",
    "\n",
    "\n",
    "gen_plots(input_CSV)\n"
   ]
  }
 ],
 "metadata": {
  "kernelspec": {
   "display_name": "Python 3",
   "language": "python",
   "name": "python3"
  },
  "language_info": {
   "codemirror_mode": {
    "name": "ipython",
    "version": 3
   },
   "file_extension": ".py",
   "mimetype": "text/x-python",
   "name": "python",
   "nbconvert_exporter": "python",
   "pygments_lexer": "ipython3",
   "version": "3.6.8"
  }
 },
 "nbformat": 4,
 "nbformat_minor": 2
}
