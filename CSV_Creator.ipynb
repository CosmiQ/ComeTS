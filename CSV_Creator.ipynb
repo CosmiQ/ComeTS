{
 "cells": [
  {
   "cell_type": "code",
   "execution_count": 2,
   "metadata": {},
   "outputs": [
    {
     "name": "stdout",
     "output_type": "stream",
     "text": [
      "Pattern: S*rade9*.tif\n",
      "#Obs Pattern: S*cvg*.tif\n",
      "Date Location in filename: 10:18\n",
      "No band number location entered\n",
      "Mask band pattern: S*cvg*.tif\n",
      "16\n"
     ]
    },
    {
     "data": {
      "application/vnd.jupyter.widget-view+json": {
       "model_id": "56d27cc7e9f9474a8e118a333aed1fc2",
       "version_major": 2,
       "version_minor": 0
      },
      "text/plain": [
       "HBox(children=(IntProgress(value=0, max=16), HTML(value='')))"
      ]
     },
     "metadata": {},
     "output_type": "display_data"
    },
    {
     "name": "stdout",
     "output_type": "stream",
     "text": [
      "\n"
     ]
    }
   ],
   "source": [
    "#!/usr/bin/env python2\n",
    "# -*- coding: utf-8 -*-\n",
    "\"\"\"\n",
    "Created on Mon Nov 27 2017\n",
    "\n",
    "@author: jshermeyer\n",
    "\"\"\"\n",
    "\n",
    "import os\n",
    "from CometTS import CSV_It\n",
    "\n",
    "# The input directory for the data\n",
    "input_dir = '/Users/jshermeyer/CosmiqGit/CometTS_dev/VIIRS_Sample/'\n",
    "# The naming pattern for your time-series data, if not necessary, just set at \"*\"\n",
    "TSdata = \"S*rade9*.tif\"\n",
    "# The number of observations that were aggregated per date-somewhat useful is working with monthly composite data\n",
    "Observations = \"S*cvg*.tif\"\n",
    "# The naming pattern for your masked data\n",
    "Mask = \"S*cvg*.tif\"\n",
    "# The location of the date within your file.  This will be extracted using regex techniques.\n",
    "DateLoc = \"10:18\"\n",
    "# The location of the band number or name in your file.  This will be extracted using regex techniques.\n",
    "BandNum = \"\"\n",
    "\n",
    "gdf_out = CSV_It(input_dir, TSdata, Observations, Mask, DateLoc, BandNum)\n",
    "output = os.path.join(input_dir, 'Raster_List.csv')\n",
    "gdf_out.to_csv(output)\n"
   ]
  },
  {
   "cell_type": "code",
   "execution_count": null,
   "metadata": {},
   "outputs": [],
   "source": []
  }
 ],
 "metadata": {
  "kernelspec": {
   "display_name": "Python 3",
   "language": "python",
   "name": "python3"
  },
  "language_info": {
   "codemirror_mode": {
    "name": "ipython",
    "version": 3
   },
   "file_extension": ".py",
   "mimetype": "text/x-python",
   "name": "python",
   "nbconvert_exporter": "python",
   "pygments_lexer": "ipython3",
   "version": "3.6.8"
  }
 },
 "nbformat": 4,
 "nbformat_minor": 2
}
